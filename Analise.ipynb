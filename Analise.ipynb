{
 "cells": [
  {
   "cell_type": "markdown",
   "id": "ae77b7b8-73b7-43e7-b4de-cb706b460f7d",
   "metadata": {},
   "source": [
    "Sobre o Dataset\n",
    "\n",
    "Temos em mãos um arquivo com dados de pacientes que desenvolveram ou não diabetes. Precisamos gerar uma amostra de dados com os pacientes com mais de 50 anos e para cada um deles indicar em uma nova coluna se o paciente está normal (BMI menor que 30) ou obeso (BMI maior ou igual a 30). Então devemos gerar um novo arquivo CSV."
   ]
  },
  {
   "cell_type": "markdown",
   "id": "9283984a-d563-4b43-a367-2bd4feae64d5",
   "metadata": {},
   "source": [
    "Instalando e carregando pacotes"
   ]
  },
  {
   "cell_type": "code",
   "execution_count": null,
   "id": "fa533dd1-de0c-4737-a4f6-843e3b5f80db",
   "metadata": {},
   "outputs": [],
   "source": [
    "!pip install -q -U watermark\n",
    "!pip install -q ipython-sql"
   ]
  },
  {
   "cell_type": "code",
   "execution_count": null,
   "id": "c2365092-dfc6-4580-a334-b7ecf414f66b",
   "metadata": {},
   "outputs": [],
   "source": [
    "import pandas as pd\n",
    "import sqlite3"
   ]
  },
  {
   "cell_type": "code",
   "execution_count": null,
   "id": "dbdd86ee-b15e-496d-b441-5a00167f4f55",
   "metadata": {},
   "outputs": [],
   "source": [
    "%reload_ext watermark\n",
    "%watermark -a \"Data Nerd\" --iversions"
   ]
  },
  {
   "cell_type": "code",
   "execution_count": null,
   "id": "cbcb4d8b-e95d-45fb-ab3e-b4faf97c591d",
   "metadata": {},
   "outputs": [],
   "source": [
    "# Criar banco de dados sqlite e conectar\n",
    "cnn = sqlite3.connect('database/dbprojeto.db')"
   ]
  },
  {
   "cell_type": "code",
   "execution_count": null,
   "id": "23362b6b-dc22-469b-9fef-a6e9a343a743",
   "metadata": {},
   "outputs": [],
   "source": [
    "df = pd.read_csv('csv/diabetes.csv')"
   ]
  },
  {
   "cell_type": "code",
   "execution_count": null,
   "id": "a2cd0d6e-66eb-4ee8-be1b-12614433e350",
   "metadata": {},
   "outputs": [],
   "source": [
    "df.shape"
   ]
  },
  {
   "cell_type": "code",
   "execution_count": null,
   "id": "70f30e3a-a22c-49fb-93d1-acebee0d5bc4",
   "metadata": {},
   "outputs": [],
   "source": [
    "df.head()"
   ]
  },
  {
   "cell_type": "code",
   "execution_count": null,
   "id": "51028a7a-a764-48cf-abf2-208f28967666",
   "metadata": {},
   "outputs": [],
   "source": [
    "# Copia o dataframe para dentro do banco de dados como uma tabela\n",
    "df.to_sql('diabetes',cnn)"
   ]
  },
  {
   "cell_type": "code",
   "execution_count": null,
   "id": "922af985-2b8d-4822-b466-4ff29914e4ef",
   "metadata": {},
   "outputs": [],
   "source": [
    "%load_ext sql\n",
    "%sql sqlite:///database/dbprojeto.db"
   ]
  },
  {
   "cell_type": "code",
   "execution_count": null,
   "id": "df67d645-9daa-4a0a-af6d-4a05782424c8",
   "metadata": {},
   "outputs": [],
   "source": [
    "%%sql\n",
    "\n",
    "SELECT COUNT(*) FROM diabetes"
   ]
  },
  {
   "cell_type": "code",
   "execution_count": null,
   "id": "f901dbad-15d7-4a93-a9f6-0a0865cb0084",
   "metadata": {},
   "outputs": [],
   "source": [
    "df.columns"
   ]
  },
  {
   "cell_type": "code",
   "execution_count": null,
   "id": "9e47ac2d-ab94-405b-9f85-ad3f5f47d30c",
   "metadata": {},
   "outputs": [],
   "source": [
    "%%sql\n",
    "\n",
    "CREATE TABLE pacientes (Pregnancies INT,\n",
    "                        Glucose INT,\n",
    "                        BloodPressure INT,\n",
    "                        SkinThickness INT,\n",
    "                        Insulin INT,\n",
    "                        BMI decimal(8,2),\n",
    "                        DiabetesPedigreeFunction decimal(8,2),\n",
    "                        Age INT,\n",
    "                        Outcome INT);"
   ]
  },
  {
   "cell_type": "code",
   "execution_count": null,
   "id": "7cc502ed-1ea9-47a6-868f-7852cd056994",
   "metadata": {},
   "outputs": [],
   "source": [
    "%%sql\n",
    "\n",
    "INSERT INTO pacientes(Pregnancies,\n",
    "                        Glucose,\n",
    "                        BloodPressure,\n",
    "                        SkinThickness,\n",
    "                        Insulin,\n",
    "                        BMI,\n",
    "                        DiabetesPedigreeFunction,\n",
    "                        Age,\n",
    "                        Outcome)\n",
    "SELECT Pregnancies,\n",
    "       Glucose,\n",
    "       BloodPressure,\n",
    "       SkinThickness,\n",
    "       Insulin,\n",
    "       BMI,\n",
    "       DiabetesPedigreeFunction,\n",
    "       Age,\n",
    "       Outcome\n",
    "FROM diabetes WHERE Age > 50;"
   ]
  },
  {
   "cell_type": "code",
   "execution_count": null,
   "id": "a756e622-6346-403e-9bfd-7e2d7192741f",
   "metadata": {},
   "outputs": [],
   "source": [
    "%%sql\n",
    "select * from pacientes"
   ]
  },
  {
   "cell_type": "code",
   "execution_count": null,
   "id": "40eb1672-d0af-4b54-a60d-9bfcb05ec68b",
   "metadata": {},
   "outputs": [],
   "source": [
    "%%sql\n",
    "\n",
    "ALTER TABLE pacientes\n",
    "ADD Perfil VARCHAR(10);"
   ]
  },
  {
   "cell_type": "code",
   "execution_count": null,
   "id": "ec076b7c-9871-433d-b711-f5cd7f4d8178",
   "metadata": {},
   "outputs": [],
   "source": [
    "%%sql\n",
    "\n",
    "UPDATE pacientes\n",
    "SET Perfil = 'Normal'\n",
    "WHERE BMI < 30;"
   ]
  },
  {
   "cell_type": "code",
   "execution_count": null,
   "id": "ff5f96aa-1b10-4c1a-9f48-8d6b082aaba0",
   "metadata": {},
   "outputs": [],
   "source": [
    "%%sql\n",
    "\n",
    "UPDATE pacientes\n",
    "SET Perfil = 'Obeso'\n",
    "WHERE BMI >= 30;"
   ]
  },
  {
   "cell_type": "code",
   "execution_count": null,
   "id": "4d6834b9-fa92-41e7-8322-dc6dd8ee3bd6",
   "metadata": {},
   "outputs": [],
   "source": [
    "%%sql\n",
    "\n",
    "SELECT * FROM pacientes"
   ]
  },
  {
   "cell_type": "markdown",
   "id": "5f6e3e2d-63de-4478-938a-2a03294a2ecc",
   "metadata": {},
   "source": [
    "Exportando os dados para CSV"
   ]
  },
  {
   "cell_type": "code",
   "execution_count": null,
   "id": "d68c49db-0227-4353-98e8-d89f9db3f872",
   "metadata": {},
   "outputs": [],
   "source": [
    "# Query\n",
    "query = cnn.execute(\"SELECT * FROM pacientes\")\n",
    "query"
   ]
  },
  {
   "cell_type": "code",
   "execution_count": null,
   "id": "8e79f26d-147e-4896-ac2d-89d632194498",
   "metadata": {},
   "outputs": [],
   "source": [
    "# Criando Lista\n",
    "cols = [coluna[0] for coluna in query.description]\n",
    "cols"
   ]
  },
  {
   "cell_type": "code",
   "execution_count": null,
   "id": "dc5ae15a-c529-4006-b889-12ab88c9dbbc",
   "metadata": {},
   "outputs": [],
   "source": [
    "# Gerandos o dataframe\n",
    "resultado = pd.DataFrame.from_records(data =  query.fetchall(), columns = cols)"
   ]
  },
  {
   "cell_type": "code",
   "execution_count": null,
   "id": "4be83a36-e71e-4d6b-aa6f-f217d785583d",
   "metadata": {},
   "outputs": [],
   "source": [
    "# Shape\n",
    "resultado.shape"
   ]
  },
  {
   "cell_type": "code",
   "execution_count": null,
   "id": "e7a3f7dd-5794-4470-877d-a80cf2d5a40f",
   "metadata": {},
   "outputs": [],
   "source": [
    "# Visualizando uma pequema amostra dos dados\n",
    "resultado.head()"
   ]
  },
  {
   "cell_type": "code",
   "execution_count": null,
   "id": "67b3381b-a78f-4a6a-94e5-f1f29d425205",
   "metadata": {},
   "outputs": [],
   "source": [
    "# Salva em CSV - Etapa final\n",
    "resultado.to_csv('csv/pacientes.csv', index = False)"
   ]
  },
  {
   "cell_type": "markdown",
   "id": "bdf7f7b1-f831-495b-b927-7a335cd83250",
   "metadata": {},
   "source": [
    "FIM"
   ]
  }
 ],
 "metadata": {
  "kernelspec": {
   "display_name": "Python 3 (ipykernel)",
   "language": "python",
   "name": "python3"
  },
  "language_info": {
   "codemirror_mode": {
    "name": "ipython",
    "version": 3
   },
   "file_extension": ".py",
   "mimetype": "text/x-python",
   "name": "python",
   "nbconvert_exporter": "python",
   "pygments_lexer": "ipython3",
   "version": "3.9.5"
  }
 },
 "nbformat": 4,
 "nbformat_minor": 5
}
